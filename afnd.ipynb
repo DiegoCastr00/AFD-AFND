{
 "cells": [
  {
   "cell_type": "code",
   "execution_count": 30,
   "metadata": {},
   "outputs": [],
   "source": [
    "def nfa( string1, transitions, accept_states, start_state):\n",
    "    current_states = {start_state}\n",
    "    for symbol in string1:\n",
    "        next_states  =  set()\n",
    "        for state in current_states : \n",
    "            if state in transitions and symbol in transitions[state]:\n",
    "                next_states.update(transitions[state][symbol])\n",
    "        \n",
    "        current_states  = next_states\n",
    "    return any(state in accept_states for state in current_states)"
   ]
  },
  {
   "cell_type": "markdown",
   "metadata": {},
   "source": [
    "Automata finito no determinista"
   ]
  },
  {
   "cell_type": "code",
   "execution_count": 31,
   "metadata": {},
   "outputs": [
    {
     "data": {
      "text/plain": [
       "True"
      ]
     },
     "execution_count": 31,
     "metadata": {},
     "output_type": "execute_result"
    }
   ],
   "source": [
    "transitions = {\n",
    "    'q0': {'a': {'q1'}},\n",
    "    'q1': {'c': {'q2'}},\n",
    "    'q2': {'a': {'q3', 'q2'}, 'b': {'q2'}, 'c': {'q2'}},\n",
    "    'q3': {'b': {'q4'}}\n",
    "}\n",
    "\n",
    "accept_states = {'q4'}\n",
    "start_state = 'q0'\n",
    "\n",
    "string = \"acabacbcbcaaab\"\n",
    "nfa(string, transitions, accept_states, start_state)\n"
   ]
  },
  {
   "cell_type": "code",
   "execution_count": 32,
   "metadata": {},
   "outputs": [
    {
     "data": {
      "text/plain": [
       "True"
      ]
     },
     "execution_count": 32,
     "metadata": {},
     "output_type": "execute_result"
    }
   ],
   "source": [
    "transitions = {\n",
    "    'q0': {'a': {'q5', 'q3', 'q1'}, 'b': {'q5'}, 'c': {'q5'}},\n",
    "    'q1': {'c': {'q2'}},\n",
    "    'q2': {'a': {'q2'}, 'b': {'q2'}, 'c': {'q2'}},\n",
    "    'q3': {'b': {'q4'}},\n",
    "    'q5': {'a': {'q6', 'q5'}, 'b': {'q5'}, 'c': {'q5'}},\n",
    "    'q6': {'b': {'q7'}}\n",
    "}\n",
    "\n",
    "accept_states = {'q7', 'q4', 'q2'}\n",
    "start_state = 'q0'\n",
    "string = \"acababcbacbabcabcab\"\n",
    "nfa(string,transitions,  accept_states,start_state)"
   ]
  },
  {
   "cell_type": "markdown",
   "metadata": {},
   "source": [
    "Automata finito determinista"
   ]
  },
  {
   "cell_type": "code",
   "execution_count": 89,
   "metadata": {},
   "outputs": [
    {
     "data": {
      "text/plain": [
       "True"
      ]
     },
     "execution_count": 89,
     "metadata": {},
     "output_type": "execute_result"
    }
   ],
   "source": [
    "transitions = {\n",
    "    'q0': {'a': {'q1'}},\n",
    "    'q1': {'c': {'q2'}},\n",
    "    'q2': {'a': {'q3'}, 'b': {'q2'}, 'c': {'q2'}},\n",
    "    'q3': {'a': {'q3'}, 'b': {'q4'}, 'c': {'q2'}},\n",
    "    'q4': {'a': {'q3'},'b': {'q2'}, 'c': {'q2'}},\n",
    "}\n",
    "\n",
    "accept_states = {'q4'}\n",
    "start_state = 'q0'\n",
    "string = \"acabaab\"\n",
    "nfa(string,transitions,  accept_states,start_state)\n"
   ]
  },
  {
   "cell_type": "code",
   "execution_count": 112,
   "metadata": {},
   "outputs": [
    {
     "data": {
      "text/plain": [
       "True"
      ]
     },
     "execution_count": 112,
     "metadata": {},
     "output_type": "execute_result"
    }
   ],
   "source": [
    "transitions = {\n",
    "    'q0': {'a': {'q1'}, 'b': {'q3'}, 'c': {'q3'}},\n",
    "    'q1': {'a': {'q4'}, 'b': {'q5'}, 'c': {'q2'}},\n",
    "    'q2': {'a': {'q2'}, 'b': {'q2'}, 'c': {'q2'}},\n",
    "    'q3': {'a': {'q4'}, 'b': {'q3'}, 'c': {'q3'}},\n",
    "    'q4': {'a': {'q4'}, 'b': {'q5'}, 'c': {'q3'}},\n",
    "    'q5': {'a': {'q4'}, 'b': {'q3'}, 'c': {'q3'}},\n",
    "}\n",
    "\n",
    "accept_states = {'q2', 'q5'}\n",
    "start_state = 'q0'\n",
    "string = \"acab\"\n",
    "nfa(string,transitions,  accept_states,start_state)"
   ]
  }
 ],
 "metadata": {
  "kernelspec": {
   "display_name": "Python 3",
   "language": "python",
   "name": "python3"
  },
  "language_info": {
   "codemirror_mode": {
    "name": "ipython",
    "version": 3
   },
   "file_extension": ".py",
   "mimetype": "text/x-python",
   "name": "python",
   "nbconvert_exporter": "python",
   "pygments_lexer": "ipython3",
   "version": "3.11.2"
  },
  "orig_nbformat": 4
 },
 "nbformat": 4,
 "nbformat_minor": 2
}
